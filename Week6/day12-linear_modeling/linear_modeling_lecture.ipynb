{
 "cells": [
  {
   "cell_type": "markdown",
   "metadata": {},
   "source": [
    "# Introduction\n",
    "\n",
    "For the past week you have been learning about new Python libraries: `Numpy` and `Pandas`. Up until now we haven't talked too much about what makes these libraries useful. Yeah, `Numpy` is good for vectorizing computations, and `Pandas` is good for loading and manipulating data; but are those tasks ends, in and of themselves, or means to an end? \n",
    "\n",
    "The answer, as with many of our answers is, it depends. So far you've seen both libraries used independent of any particular task. Tonight that changes. Tonight we will use these libraries in efforts to accomplish the same end as [Pinky and the Brain](https://en.wikipedia.org/wiki/Pinky_and_the_Brain)! Ok, maybe be won't be trying to take over the world (... or will we?), but we will be working on just as lofty an endeavour: predicting the unknown."
   ]
  }
 ],
 "metadata": {
  "kernelspec": {
   "display_name": "Python 2",
   "language": "python",
   "name": "python2"
  },
  "language_info": {
   "codemirror_mode": {
    "name": "ipython",
    "version": 2
   },
   "file_extension": ".py",
   "mimetype": "text/x-python",
   "name": "python",
   "nbconvert_exporter": "python",
   "pygments_lexer": "ipython2",
   "version": "2.7.11"
  }
 },
 "nbformat": 4,
 "nbformat_minor": 0
}
