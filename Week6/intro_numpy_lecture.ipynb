{
 "cells": [
  {
   "cell_type": "markdown",
   "metadata": {},
   "source": [
    "# Intro to Numpy \n",
    "\n",
    "Tonight we're going to start off with a little detour into the `Numpy` library, which is the fundamental package for scientific computing in Python. It turns out that the `Pandas DataFrames` that we worked with last class are actually but off the `numpy array` (which we'll get to), so it's important to have some basic knowldege of what's running under the hood of our `DataFrames`. We started with `Pandas DataFrames` as opposed to `Numpy` and `numpy arrays` because they are a little bit more intuitive, and we're able to interact with them from a much higher level. \n",
    "\n",
    "While `Numpy` offers a number of things (see the [docs](http://www.numpy.org/) for a better idea), one of it's mainstays is the `numpy array`, which is what we'll focus on tonight. \n"
   ]
  },
  {
   "cell_type": "code",
   "execution_count": null,
   "metadata": {
    "collapsed": true
   },
   "outputs": [],
   "source": []
  }
 ],
 "metadata": {
  "kernelspec": {
   "display_name": "Python 2",
   "language": "python",
   "name": "python2"
  },
  "language_info": {
   "codemirror_mode": {
    "name": "ipython",
    "version": 2
   },
   "file_extension": ".py",
   "mimetype": "text/x-python",
   "name": "python",
   "nbconvert_exporter": "python",
   "pygments_lexer": "ipython2",
   "version": "2.7.11"
  }
 },
 "nbformat": 4,
 "nbformat_minor": 0
}
