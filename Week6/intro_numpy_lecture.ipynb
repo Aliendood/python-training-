{
 "cells": [
  {
   "cell_type": "markdown",
   "metadata": {},
   "source": [
    "# Intro to Numpy \n",
    "\n",
    "Tonight we're going to start off with a little detour into the `Numpy` library, which is the fundamental package for scientific computing in Python. It turns out that the `Pandas DataFrames` that we worked with last class are actually but off the `numpy array` (which we'll get to), so it's important to have some basic knowldege of what's running under the hood of our `DataFrames`. We started with `Pandas DataFrames` as opposed to `Numpy` and `numpy arrays` because they are a little bit more intuitive, and we're able to interact with them from a much higher level. \n",
    "\n",
    "While `Numpy` offers a number of things (see the [docs](http://www.numpy.org/) for a better idea), one of it's mainstays is the `numpy array` (an n-dimensional array), which is what we'll focus on tonight. \n",
    "\n",
    "## The basics\n",
    "\n",
    "What's so special about a `numpy array`? From a high level, they are kind of like lists - they just store a bunch of stuff in a container. Okay, great, so what's the big deal? Well, it turns out that a `numpy array` is much faster to interact with and perform calculations with than a standard list. Why is that, though? The two main reasons that they are faster are: \n",
    "\n",
    "1. They are stored as one contiguous block of memory, rather than being spread out across multiple locations like a list. \n",
    "2. Each item in a `numpy array` is of the same data type (i.e. all integers, all floats, etc.), rather than a conglomerate of any number of data types (as a list is). \n",
    "\n",
    "Just how much faster are they? Well, let's take the numbers from 0 to 1 million, and sum those numbers, timing it with both a list a numpy array."
   ]
  },
  {
   "cell_type": "code",
   "execution_count": 13,
   "metadata": {
    "collapsed": true
   },
   "outputs": [],
   "source": [
    "import numpy as np # Standard import - follow this!\n",
    "def sum_np_array(): \n",
    "    a = np.arange(0, 1000000)\n",
    "    return a.sum()\n",
    "    \n",
    "def sum_lst(): \n",
    "    a = xrange(1000000)\n",
    "    return sum(a)"
   ]
  },
  {
   "cell_type": "code",
   "execution_count": 5,
   "metadata": {
    "collapsed": false
   },
   "outputs": [
    {
     "name": "stdout",
     "output_type": "stream",
     "text": [
      "1000 loops, best of 3: 1.63 ms per loop\n"
     ]
    }
   ],
   "source": [
    "%timeit sum_np_array()"
   ]
  },
  {
   "cell_type": "code",
   "execution_count": 7,
   "metadata": {
    "collapsed": false
   },
   "outputs": [
    {
     "name": "stdout",
     "output_type": "stream",
     "text": [
      "100 loops, best of 3: 7.91 ms per loop\n"
     ]
    }
   ],
   "source": [
    "%timeit sum_lst()"
   ]
  },
  {
   "cell_type": "markdown",
   "metadata": {},
   "source": [
    "Woah, so it's about 5 times faster! This is because of those two points above. Because numpy arrays store data in contiguous blocks of memory, it is able to take advantage of **vectorization**, which is the ability of a CPU to perform one operation on mulitiple pieces of data at once. In addition, since a numpy array knows what type each object it is storing is (and those types don't change), it doesn't have to waste time checking what type each object is (like a list). The combo of these two things speeds up our calcualtion quite a bit. \n",
    "\n",
    "It's also worth nothing that all we did above was a sum - just a **simple** sum. When we move to doing more complicated operations, we'll save even more time! Let's look at what else numpy arrays can do..."
   ]
  },
  {
   "cell_type": "markdown",
   "metadata": {
    "collapsed": true
   },
   "source": [
    "## A little more of Numpy\n",
    "\n",
    "Now that we know how awesome `numpy arrays` are, let's dive into them. We're not going to cover everything that you can do with `numpy arrays` (see the [methods docs](http://docs.scipy.org/doc/numpy-1.10.0/reference/generated/numpy.ndarray.html#numpy.ndarray) for that), but we'll look at the basics. \n",
    "\n",
    "Let's start with how we can create a `numpy array`. To do this, we use the `np.array()` constructor, which as the docs state, expects some kind of array or something that exposes the array interface (i.e. acts like an array - lists and tuples are examples). So, this means that we can create a numpy array by passing in a list or tuple. "
   ]
  },
  {
   "cell_type": "code",
   "execution_count": 26,
   "metadata": {
    "collapsed": false
   },
   "outputs": [],
   "source": [
    "my_lst_ndarray = np.array([1, 2, 3, 4, 5])\n",
    "my_tuple_ndarray = np.array((1, 2, 3, 4, 5), np.int32) # You can specify the data type upon creation. "
   ]
  },
  {
   "cell_type": "code",
   "execution_count": 23,
   "metadata": {
    "collapsed": false
   },
   "outputs": [
    {
     "name": "stdout",
     "output_type": "stream",
     "text": [
      "(5,)\n",
      "(5,)\n"
     ]
    }
   ],
   "source": [
    "# Just like we have the shape attribute on Pandas DataFrames, we also have it on numpy arrays.\n",
    "print my_lst_ndarray.shape\n",
    "print my_tuple_ndarray.shape"
   ]
  },
  {
   "cell_type": "code",
   "execution_count": 24,
   "metadata": {
    "collapsed": false
   },
   "outputs": [
    {
     "name": "stdout",
     "output_type": "stream",
     "text": [
      "int64\n",
      "int32\n"
     ]
    }
   ],
   "source": [
    "# We also have the dtype attribute, which will tell us the data type of the objects in our \n",
    "# ndarray. Remember that \n",
    "print my_lst_ndarray.dtype\n",
    "print my_tuple_ndarray.dtype"
   ]
  },
  {
   "cell_type": "code",
   "execution_count": 36,
   "metadata": {
    "collapsed": false
   },
   "outputs": [
    {
     "name": "stdout",
     "output_type": "stream",
     "text": [
      "|S2\n"
     ]
    }
   ],
   "source": [
    "my_lst_ndarray2 = np.array([\"1\", 2, 3, \"10\", 5])\n",
    "print my_lst_ndarray2.dtype"
   ]
  },
  {
   "cell_type": "code",
   "execution_count": 39,
   "metadata": {
    "collapsed": false
   },
   "outputs": [
    {
     "name": "stdout",
     "output_type": "stream",
     "text": [
      "int32\n"
     ]
    }
   ],
   "source": [
    "# If you try to tell the ndarray to be a certain data type, it will try to cast every \n",
    "# object you pass in to that data type (here int32), and fail if it can't cast it to that \n",
    "# data type. Below, we are able to cast \"10\" to a 32 bit integer, so this is fine. \n",
    "my_lst_ndarray3 = np.array([1, 2, 3, \"10\", 5], np.int32) \n",
    "print my_lst_ndarray3.dtype"
   ]
  },
  {
   "cell_type": "code",
   "execution_count": 40,
   "metadata": {
    "collapsed": false
   },
   "outputs": [
    {
     "ename": "ValueError",
     "evalue": "invalid literal for long() with base 10: 'bozo'",
     "output_type": "error",
     "traceback": [
      "\u001b[0;31m---------------------------------------------------------------------------\u001b[0m",
      "\u001b[0;31mValueError\u001b[0m                                Traceback (most recent call last)",
      "\u001b[0;32m<ipython-input-40-73a6c7f335ad>\u001b[0m in \u001b[0;36m<module>\u001b[0;34m()\u001b[0m\n\u001b[1;32m      1\u001b[0m \u001b[0;31m# This will not work, because Python can't pass the string 'bozo' to a 32 bit integer.\u001b[0m\u001b[0;34m\u001b[0m\u001b[0;34m\u001b[0m\u001b[0m\n\u001b[0;32m----> 2\u001b[0;31m \u001b[0mmy_lst_ndarray3\u001b[0m \u001b[0;34m=\u001b[0m \u001b[0mnp\u001b[0m\u001b[0;34m.\u001b[0m\u001b[0marray\u001b[0m\u001b[0;34m(\u001b[0m\u001b[0;34m[\u001b[0m\u001b[0;36m1\u001b[0m\u001b[0;34m,\u001b[0m \u001b[0;36m2\u001b[0m\u001b[0;34m,\u001b[0m \u001b[0;36m3\u001b[0m\u001b[0;34m,\u001b[0m \u001b[0;34m\"bozo\"\u001b[0m\u001b[0;34m,\u001b[0m \u001b[0;36m5\u001b[0m\u001b[0;34m]\u001b[0m\u001b[0;34m,\u001b[0m \u001b[0mnp\u001b[0m\u001b[0;34m.\u001b[0m\u001b[0mint32\u001b[0m\u001b[0;34m)\u001b[0m\u001b[0;34m\u001b[0m\u001b[0m\n\u001b[0m",
      "\u001b[0;31mValueError\u001b[0m: invalid literal for long() with base 10: 'bozo'"
     ]
    }
   ],
   "source": [
    "# This will not work, because Python can't pass the string 'bozo' to a 32 bit integer. \n",
    "my_lst_ndarray3 = np.array([1, 2, 3, \"bozo\", 5], np.int32) "
   ]
  },
  {
   "cell_type": "code",
   "execution_count": null,
   "metadata": {
    "collapsed": true
   },
   "outputs": [],
   "source": []
  }
 ],
 "metadata": {
  "kernelspec": {
   "display_name": "Python 2",
   "language": "python",
   "name": "python2"
  },
  "language_info": {
   "codemirror_mode": {
    "name": "ipython",
    "version": 2
   },
   "file_extension": ".py",
   "mimetype": "text/x-python",
   "name": "python",
   "nbconvert_exporter": "python",
   "pygments_lexer": "ipython2",
   "version": "2.7.10"
  }
 },
 "nbformat": 4,
 "nbformat_minor": 0
}
