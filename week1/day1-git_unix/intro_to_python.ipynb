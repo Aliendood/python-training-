{
 "cells": [
  {
   "cell_type": "markdown",
   "metadata": {},
   "source": [
    "## Introduction \n",
    "\n",
    "This notebook here is meant to get you oriented with one of the tools that we will be using for our class notes. Class notes will be built into IPython notebooks (like this one). Before coming to each class, you should read the class notes, and play around/follow along with the code in those notebooks. You should run the code provided, and additionally modify it to learn what happens when you change certain pieces. Effectively learning to program means having your hands-on the keyboard often. It means playing with code, breaking code, reading errors, and reading google. It means banging your head against the keyboard, but getting to revel in that time spent banging your head when you're program finally works. To that end, this notebook here will hopefully give you a taste of that. \n",
    "\n",
    "We'll start off having you type some working code, and playing around with it. Then, we'll walk you through an example of working with some broken code (don't worry, it won't be too bad). Finally, we'll finish up by having you move the working code into a `script`, and you'll run you're very first Python program! \n",
    "\n",
    "### Part 1 - Working with `Working` Code\n",
    "\n",
    "For the first part, type in the following code. **Type** it one line at a time into a cell, and then run that cell (click the button at the top to do this, or try `Shift + Enter`). Don't copy and paste it, but instead type it. Building up your programming chops will come through muscle memory, and tonight will get you started with that. You will be writing you're own programs soon enough! \n",
    "\n",
    "**Type** this code out and run it one line at at time: \n",
    "\n",
    "```\n",
    "my_first_var = 'Wohoo!'\n",
    "print my_first_var\n",
    "\n",
    "my_second_var = \"I'm typing code.\"\n",
    "print my_second_var \n",
    "\n",
    "my_third_var = \"Even though this doesn't feel like code, I've been told it is code.\"\n",
    "print my_third_var \n",
    "\n",
    "my_combined_var = my_first_var + ' ' + my_second_var + ' ' + my_third_var \n",
    "print my_combined_var\n",
    "```\n",
    "\n",
    "We've included a cell below for each one of the lines above. "
   ]
  },
  {
   "cell_type": "code",
   "execution_count": null,
   "metadata": {
    "collapsed": false
   },
   "outputs": [],
   "source": []
  },
  {
   "cell_type": "code",
   "execution_count": null,
   "metadata": {
    "collapsed": false
   },
   "outputs": [],
   "source": []
  },
  {
   "cell_type": "code",
   "execution_count": null,
   "metadata": {
    "collapsed": false
   },
   "outputs": [],
   "source": []
  },
  {
   "cell_type": "code",
   "execution_count": null,
   "metadata": {
    "collapsed": false
   },
   "outputs": [],
   "source": []
  },
  {
   "cell_type": "code",
   "execution_count": null,
   "metadata": {
    "collapsed": true
   },
   "outputs": [],
   "source": []
  },
  {
   "cell_type": "code",
   "execution_count": null,
   "metadata": {
    "collapsed": true
   },
   "outputs": [],
   "source": []
  },
  {
   "cell_type": "code",
   "execution_count": null,
   "metadata": {
    "collapsed": true
   },
   "outputs": [],
   "source": []
  },
  {
   "cell_type": "code",
   "execution_count": null,
   "metadata": {
    "collapsed": true
   },
   "outputs": [],
   "source": []
  },
  {
   "cell_type": "markdown",
   "metadata": {},
   "source": [
    "Above, we just worked with text. Let's try working with some numeric code now. \n",
    "\n",
    "**Type** this code out line by line:\n",
    "\n",
    "```\n",
    "my_first_num = 3\n",
    "print my_first_num\n",
    "\n",
    "my_second_num = 13\n",
    "print my_second_num\n",
    "\n",
    "quotient = my_second_num / my_first_num\n",
    "remainder = my_second_num % my_first_num\n",
    "\n",
    "print quotient, remainder\n",
    "```\n",
    "\n",
    "We've included a cell below for each one of the lines above. "
   ]
  },
  {
   "cell_type": "code",
   "execution_count": null,
   "metadata": {
    "collapsed": false
   },
   "outputs": [],
   "source": []
  },
  {
   "cell_type": "code",
   "execution_count": null,
   "metadata": {
    "collapsed": false
   },
   "outputs": [],
   "source": []
  },
  {
   "cell_type": "code",
   "execution_count": null,
   "metadata": {
    "collapsed": true
   },
   "outputs": [],
   "source": []
  },
  {
   "cell_type": "code",
   "execution_count": null,
   "metadata": {
    "collapsed": false
   },
   "outputs": [],
   "source": []
  },
  {
   "cell_type": "code",
   "execution_count": null,
   "metadata": {
    "collapsed": true
   },
   "outputs": [],
   "source": []
  },
  {
   "cell_type": "code",
   "execution_count": null,
   "metadata": {
    "collapsed": true
   },
   "outputs": [],
   "source": []
  },
  {
   "cell_type": "code",
   "execution_count": null,
   "metadata": {
    "collapsed": true
   },
   "outputs": [],
   "source": []
  },
  {
   "cell_type": "markdown",
   "metadata": {},
   "source": [
    "### Part 2\n",
    "\n",
    "Now, let's work with some code **that will break** (sorry). This can and will happen **all the time** when writing code. Half the battle of being a good programmer is learning how to read through error messages and fix your code. Google will be your best friend through this. If you ask any software engineer or programmer you may know, she/he will be likely to tell you the same. \n",
    "\n",
    "**Type** out the code below, again line by line. When you encounter the error, we'll walk you through it. \n",
    "\n",
    "```\n",
    "my_str_var = 'Hello. My favorite number is '\n",
    "print my_str_var\n",
    "\n",
    "my_fav_num = 3\n",
    "print my_fav_num\n",
    "\n",
    "full_str = my_str_var + my_fav_num \n",
    "print full_str\n",
    "```\n",
    "\n",
    "There is a cell below for each one of the lines above. "
   ]
  },
  {
   "cell_type": "code",
   "execution_count": null,
   "metadata": {
    "collapsed": false
   },
   "outputs": [],
   "source": []
  },
  {
   "cell_type": "code",
   "execution_count": null,
   "metadata": {
    "collapsed": false
   },
   "outputs": [],
   "source": []
  },
  {
   "cell_type": "code",
   "execution_count": null,
   "metadata": {
    "collapsed": false
   },
   "outputs": [],
   "source": []
  },
  {
   "cell_type": "code",
   "execution_count": null,
   "metadata": {
    "collapsed": true
   },
   "outputs": [],
   "source": []
  },
  {
   "cell_type": "code",
   "execution_count": null,
   "metadata": {
    "collapsed": true
   },
   "outputs": [],
   "source": []
  },
  {
   "cell_type": "code",
   "execution_count": null,
   "metadata": {
    "collapsed": false
   },
   "outputs": [],
   "source": []
  },
  {
   "cell_type": "markdown",
   "metadata": {},
   "source": [
    "By now, you'll have encountered the following error: \n",
    "\n",
    "```\n",
    "TypeError: cannot concatenate 'str' and 'int' objects\n",
    "```\n",
    "\n",
    "We've said Google will be your best friend. Let's put that to the test. Take that error (the entire thing) and paste it into Google. The first link should be [this page](http://stackoverflow.com/questions/11844072/python-typeerror-cannot-concatenate-str-and-int-objects), a stackoverflow post explaining what this error means and how to fix it. Reading through the first five posts there, we see that we can fix it if we simply throw a `str` around the variable `my_fav_num` above. This means the line \n",
    "\n",
    "`full_str = my_str_var + my_fav_num` \n",
    "\n",
    "will become: \n",
    "\n",
    "`full_str = my_str_var + str(my_fav_num)`. \n",
    "\n",
    "Make this change above, and then re-run all your code. "
   ]
  },
  {
   "cell_type": "code",
   "execution_count": null,
   "metadata": {
    "collapsed": true
   },
   "outputs": [],
   "source": []
  }
 ],
 "metadata": {
  "kernelspec": {
   "display_name": "Python 2",
   "language": "python",
   "name": "python2"
  },
  "language_info": {
   "codemirror_mode": {
    "name": "ipython",
    "version": 2
   },
   "file_extension": ".py",
   "mimetype": "text/x-python",
   "name": "python",
   "nbconvert_exporter": "python",
   "pygments_lexer": "ipython2",
   "version": "2.7.11"
  }
 },
 "nbformat": 4,
 "nbformat_minor": 0
}
