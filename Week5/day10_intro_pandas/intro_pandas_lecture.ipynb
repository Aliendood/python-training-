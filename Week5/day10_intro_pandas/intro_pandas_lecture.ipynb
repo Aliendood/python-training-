{
 "cells": [
  {
   "cell_type": "markdown",
   "metadata": {},
   "source": [
    "# Intro to Pandas \n",
    "\n",
    "Tonight we're going to be starting our journey through the Pandas library (created by Wes McKinney). Most of the time, when we refer to working in Pandas, we're talking about working within a dataframe, which is what we'll focus on tonight. We'll be diving into Pandas DataFrames, which are objects that will hold our data, allowing us to interact with it, manipulate it, and eventually throw it into machine learning algorithms (if we want). \n",
    "\n",
    "Wait, did you say that the Pandas DataFrame is an **object**? I did! What this means is that we're going to interact with Pandas DataFrames in much the same way that we interact with all of our other objects in python. Before we get to actually interacting with it, though, we'll have to get one, and get one with data in it! And there's one quick step that we have to do before that... \n",
    "\n",
    "### Pandas Import \n",
    "\n",
    "```python\n",
    "import pandas as pd # Standard import. \n",
    "```\n",
    "\n",
    "Here I've shown how we get access to everything in the Pandas library - we import it! Also note that I placed the comment python `# Standard import out to the right of our import. This was to note that this is, like you might have guessed, the standard way to import the Pandas library. You should be sure that if you are importing the entire pandas library, you follow this syntax. It's common practice, and we tend to follow common practice whenever possible. "
   ]
  },
  {
   "cell_type": "code",
   "execution_count": null,
   "metadata": {
    "collapsed": true
   },
   "outputs": [],
   "source": []
  }
 ],
 "metadata": {
  "kernelspec": {
   "display_name": "Python 2",
   "language": "python",
   "name": "python2"
  },
  "language_info": {
   "codemirror_mode": {
    "name": "ipython",
    "version": 2
   },
   "file_extension": ".py",
   "mimetype": "text/x-python",
   "name": "python",
   "nbconvert_exporter": "python",
   "pygments_lexer": "ipython2",
   "version": "2.7.11"
  }
 },
 "nbformat": 4,
 "nbformat_minor": 0
}
