{
 "cells": [
  {
   "cell_type": "markdown",
   "metadata": {},
   "source": [
    "# Instructions\n",
    "\n",
    "Tonight we're going to get practice working in Pandas. We'll walk through instantiating a `DataFrame`, reading data into it, looking at and examining that data, and then playing with it. We'll be using the data in the `data` folder located within this directory (it'll be the same wine data that we've looked at during lecture). \n",
    "\n",
    "# Assignment Questions \n",
    "\n",
    "### Part 1 - The basics of DataFrames\n",
    "\n",
    "Let's start off by following the general workflow that we use when moving data into a DataFrame: \n",
    "\n",
    "    * Importing Pandas\n",
    "    * Reading data into the DataFrame\n",
    "    * Getting a general sense of the data\n",
    "\n",
    "So, in terms of what you should do for this part...\n",
    "\n",
    "1. Import pandas\n",
    "2. Read the wine data into DataFrames. \n",
    "3. Use the `attributes` and `methods` available on DataFrames to answer the following questions: \n",
    "    * How many rows and columns are in each DataFrame?\n",
    "    * What data type is in each column?\n",
    "    * Are all of the variables continuous, or are any categorical?\n",
    "    * How many non-null values are in each column?\n",
    "    * What are the min, mean, max, median for all numeric columns?\n",
    "\n",
    "### Part 2 - Practice with grabbing Data\n",
    "\n",
    "Let's now get some practice with just grabbing certain parts of data. If you'd like some extra practice, then try answering each of the questions in more than one way (because remember, we can often grab our data in a couple of different ways). \n",
    "\n",
    "1. Grab the first 10 rows of the `chlorides` column. \n",
    "2. Grab the last 10 rows of the `chlorides` column. \n",
    "3. Grab indices 264-282 of the `chlorides` **and** `density` columns. \n",
    "4. Grab all rows where the `chlorides` value is less than 0.10. \n",
    "5. Now grab all the rows where the `chlorides` value is greater than it's mean (try **not** to use a hard-coded value for the mean, but instead a method).\n",
    "6. Grab all those rows where the `pH` is greater than 3.0 and less than 3.5. \n",
    "7. Further filter the results from 6 to grab only those rows that have a `residual sugar` less than 2.0. "
   ]
  },
  {
   "cell_type": "code",
   "execution_count": null,
   "metadata": {
    "collapsed": true
   },
   "outputs": [],
   "source": []
  }
 ],
 "metadata": {
  "kernelspec": {
   "display_name": "Python 2",
   "language": "python",
   "name": "python2"
  },
  "language_info": {
   "codemirror_mode": {
    "name": "ipython",
    "version": 2
   },
   "file_extension": ".py",
   "mimetype": "text/x-python",
   "name": "python",
   "nbconvert_exporter": "python",
   "pygments_lexer": "ipython2",
   "version": "2.7.10"
  }
 },
 "nbformat": 4,
 "nbformat_minor": 0
}
